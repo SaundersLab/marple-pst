{
 "cells": [
  {
   "cell_type": "code",
   "execution_count": 6,
   "metadata": {},
   "outputs": [
    {
     "data": {
      "text/plain": [
       "True"
      ]
     },
     "execution_count": 6,
     "metadata": {},
     "output_type": "execute_result"
    }
   ],
   "source": [
    "import filecmp\n",
    "import glob\n",
    "\n",
    "filecmp.cmp(\n",
    "    'integration/expected/isolate_1/isolate_1.bam',\n",
    "    'integration/observed/isolate_1/isolate_1.bam',\n",
    "    shallow=False,\n",
    ")"
   ]
  },
  {
   "cell_type": "code",
   "execution_count": 17,
   "metadata": {},
   "outputs": [],
   "source": [
    "expected = 'integration/expected/isolate_1'\n",
    "observed = 'integration/observed/isolate_1'\n",
    "\n",
    "dircmp = filecmp.dircmp(expected, observed)\n",
    "match, mismatch, errors = filecmp.cmpfiles(expected, observed, dircmp.left_list, False)"
   ]
  },
  {
   "cell_type": "code",
   "execution_count": 27,
   "metadata": {},
   "outputs": [],
   "source": [
    "from re import sub, finditer\n",
    "from typing import Dict\n",
    "\n",
    "def _subtract_indels_from_counts(upper_reads: str, base_counts: Dict[str, int]) -> None:\n",
    "    for indel in finditer(r'([+|-])(\\d+)(\\w+)', upper_reads):\n",
    "        indel_size = int(indel.group(2))\n",
    "        indel_sequence = indel.group(3)[:indel_size]\n",
    "        for base in base_counts:\n",
    "            base_counts[base] -= indel_sequence.count(base)\n",
    "\n",
    "def _base_ratios_from_reads(reads: str, depth: int, ref: str) -> Dict[str, float]:\n",
    "    upper_reads = reads.upper()\n",
    "\n",
    "    # ^G. marks the start of a read segment where the ASCII minus 33 of G is the mapping quality\n",
    "    # and the character AFTER those 2 is the actual read - in this case a match to the reference.\n",
    "    # Drop the first 2 characters as they are not actual reads\n",
    "    if '^' in upper_reads:\n",
    "        upper_reads = sub('\\^.', '', upper_reads)\n",
    "\n",
    "    base_counts = {base: upper_reads.count(base) for base in 'ACTG'}\n",
    "    if ref in 'ACTG':\n",
    "        base_counts[ref] += upper_reads.count('.') + upper_reads.count(',')\n",
    "    if '+' in upper_reads or '-' in upper_reads:\n",
    "        _subtract_indels_from_counts(upper_reads, base_counts)\n",
    "    # Only calculate ratios for present bases\n",
    "    base_ratios = {\n",
    "        base: round(base_counts[base] / depth, 3)\n",
    "        for base in base_counts if base_counts[base]\n",
    "    }\n",
    "    return base_ratios"
   ]
  },
  {
   "cell_type": "code",
   "execution_count": null,
   "metadata": {},
   "outputs": [],
   "source": [
    "from typing import Optional, List, Tuple\n",
    "\n",
    "def _get_genotype_and_valid_bases_and_valid_ratios(\n",
    "    ref: str, bases: List[str], ratio_strs: list, hetero_min: float, hetero_max: float\n",
    ") -> Optional[Tuple[str, str, str]]:\n",
    "\n",
    "    ratios = map(float, ratio_strs)\n",
    "\n",
    "    genotype = ''\n",
    "    valid_bases = ''\n",
    "    valid_ratios = ''\n",
    "\n",
    "    for (base, ratio, ratio_str) in zip(bases, ratios, ratio_strs):\n",
    "        if ratio < hetero_min:\n",
    "            continue\n",
    "        valid_ratios += ratio_str + ','\n",
    "        if ratio >= hetero_max:\n",
    "            genotype = '0/0' if base == ref else '1/1'\n",
    "            valid_bases = base + base\n",
    "            break\n",
    "        valid_bases += base\n",
    "\n",
    "    if not valid_bases:\n",
    "        return None\n",
    "\n",
    "    if not genotype:\n",
    "        if len(valid_bases) == 1:\n",
    "            if valid_bases == ref:  # If only ref has min <= freq <= max\n",
    "                return None\n",
    "            genotype = '1/1'\n",
    "            valid_bases = valid_bases + valid_bases\n",
    "        elif len(valid_bases) == 2:\n",
    "            genotype = '0/1' if ref in valid_bases else '1/2'\n",
    "        else:\n",
    "            genotype = '?'\n",
    "\n",
    "    valid_ratios = valid_ratios.rstrip(',')\n",
    "    return genotype, valid_bases, valid_ratios"
   ]
  },
  {
   "cell_type": "code",
   "execution_count": null,
   "metadata": {},
   "outputs": [],
   "source": [
    "def test_get_genotype_and_valid_bases_and_valid_ratios():\n",
    "        columns = [\n",
    "            'ref', 'bases', 'ratios', 'h_min', 'h_max', 'genotype', 'v_bases', 'v_ratios'\n",
    "        ]\n",
    "        cases = [\n",
    "            ('A', ['A', 'T'], ['0.9', '0.1'], .2, .8, '0/0', 'AA', '0.9'),\n",
    "            ('A', ['T', 'A'], ['0.1', '0.9'], .2, .8, '0/0', 'AA', '0.9'),\n",
    "            ('A', ['A', 'T'], ['0.5', '0.5'], .2, .8, '0/1', 'AT', '0.5,0.5'),\n",
    "            ('A', ['T', 'A'], ['0.5', '0.5'], .2, .8, '0/1', 'TA', '0.5,0.5'),\n",
    "            ('A', ['A', 'T'], ['0.1', '0.9'], .2, .8, '1/1', 'TT', '0.9'),\n",
    "            ('A', ['T', 'C'], ['0.5', '0.5'], .2, .8, '1/2', 'TC', '0.5,0.5'),\n",
    "            ('A', ['A','C','T'], ['0.3', '0.4', '0.3'], .2, .8, '?', 'ACT', '0.3,0.4,0.3'),\n",
    "        ]\n",
    "        for ref, bases, ratio_strs, hetero_min, hetero_max, genotype, valid_bases, valid_ratios in cases:\n",
    "            assert _get_genotype_and_valid_bases_and_valid_ratios(\n",
    "                ref, bases, ratio_strs, hetero_min, hetero_max\n",
    "            ) == (genotype, valid_bases, valid_ratios)\n",
    "\n",
    "test_genotype_and_validate_bases"
   ]
  },
  {
   "cell_type": "code",
   "execution_count": 48,
   "metadata": {},
   "outputs": [],
   "source": [
    "cases = [\n",
    "    ('.' * 22,                     22, 'G', {'G': 1}),\n",
    "    ('.' * 9 + 'T',                10, 'A', {'A': .9, 'T': .1}),\n",
    "    ('.' * 4 + 'T' * 4 + 'G' * 8,  16, 'A', {'A': 0.25, 'T': 0.25, 'G': 0.5}),\n",
    "    ('.' * 4 + 'A' * 4 + 'G' * 8,  16, 'T', {'A': 0.25, 'T': 0.25, 'G': 0.5}),\n",
    "    ('.,' * 3 + 'T' * 4,           10, 'A', {'A': .6, 'T': .4}),\n",
    "    ('.,' * 3 + 'T' * 4 + '$',     10, 'A', {'A': .6, 'T': .4}),\n",
    "    ('.,' * 3 + 'T' * 4 + '^',     10, 'A', {'A': .6, 'T': .4}),\n",
    "    ('.,' * 3 + '+3ATA' + 'T' * 4, 10, 'A', {'A': .6, 'T': .4}),\n",
    "    ('.,' * 3 + '-3ATA' + 'T' * 4, 10, 'A', {'A': .6, 'T': .4}),\n",
    "    # ^G. marks the start of a read segment where the ASCII minus 33 of G is the mapping quality\n",
    "    # and the character AFTER those 2 is the actual read - in this case a match to the reference\n",
    "    ('.....^G.....',               10, 'T', {'T': 1.0}), \n",
    "\n",
    "]\n",
    "for reads, depth, ref, base_ratios in cases:\n",
    "    assert _base_ratios_from_reads(reads, depth, ref) == base_ratios"
   ]
  },
  {
   "cell_type": "code",
   "execution_count": 47,
   "metadata": {},
   "outputs": [
    {
     "data": {
      "text/plain": [
       "{'A': 1.0}"
      ]
     },
     "execution_count": 47,
     "metadata": {},
     "output_type": "execute_result"
    }
   ],
   "source": [
    "_base_ratios_from_reads('.' * 5 + '^G.' + '.' * 4, 10, 'A')"
   ]
  },
  {
   "cell_type": "code",
   "execution_count": 42,
   "metadata": {},
   "outputs": [
    {
     "data": {
      "text/plain": [
       "'AAAATTTTGGGGGGGG'"
      ]
     },
     "execution_count": 42,
     "metadata": {},
     "output_type": "execute_result"
    }
   ],
   "source": [
    "'A' * 4 + 'T' * 4 + 'G' * 8"
   ]
  },
  {
   "cell_type": "code",
   "execution_count": 41,
   "metadata": {},
   "outputs": [
    {
     "data": {
      "text/plain": [
       "{'A': 0.25, 'T': 0.25, 'G': 0.5}"
      ]
     },
     "execution_count": 41,
     "metadata": {},
     "output_type": "execute_result"
    }
   ],
   "source": [
    "_base_ratios_from_reads('AAAATTTTGGGGGGGG', 16, 'A')"
   ]
  },
  {
   "cell_type": "code",
   "execution_count": 21,
   "metadata": {},
   "outputs": [
    {
     "ename": "AssertionError",
     "evalue": "",
     "output_type": "error",
     "traceback": [
      "\u001b[0;31m---------------------------------------------------------------------------\u001b[0m",
      "\u001b[0;31mAssertionError\u001b[0m                            Traceback (most recent call last)",
      "\u001b[1;32m/Users/bryan/work/pst_marple/test/temp.ipynb Cell 3\u001b[0m in \u001b[0;36m<cell line: 3>\u001b[0;34m()\u001b[0m\n\u001b[1;32m      <a href='vscode-notebook-cell:/Users/bryan/work/pst_marple/test/temp.ipynb#W2sZmlsZQ%3D%3D?line=0'>1</a>\u001b[0m \u001b[39mfrom\u001b[39;00m \u001b[39mos\u001b[39;00m\u001b[39m.\u001b[39;00m\u001b[39mpath\u001b[39;00m \u001b[39mimport\u001b[39;00m join\n\u001b[1;32m      <a href='vscode-notebook-cell:/Users/bryan/work/pst_marple/test/temp.ipynb#W2sZmlsZQ%3D%3D?line=2'>3</a>\u001b[0m \u001b[39mfor\u001b[39;00m filename \u001b[39min\u001b[39;00m dircmp\u001b[39m.\u001b[39mleft_list:\n\u001b[0;32m----> <a href='vscode-notebook-cell:/Users/bryan/work/pst_marple/test/temp.ipynb#W2sZmlsZQ%3D%3D?line=3'>4</a>\u001b[0m     \u001b[39massert\u001b[39;00m filecmp\u001b[39m.\u001b[39mcmp(join(expected, filename), join(observed, filename), shallow\u001b[39m=\u001b[39m\u001b[39mFalse\u001b[39;00m)\n",
      "\u001b[0;31mAssertionError\u001b[0m: "
     ]
    }
   ],
   "source": [
    "from os.path import join\n",
    "\n",
    "for filename in dircmp.left_list:\n",
    "    assert filecmp.cmp(join(expected, filename), join(observed, filename), shallow=False)"
   ]
  },
  {
   "cell_type": "code",
   "execution_count": 13,
   "metadata": {},
   "outputs": [
    {
     "data": {
      "text/plain": [
       "['isolate_1.bam',\n",
       " 'isolate_1.fasta',\n",
       " 'isolate_1.pileup',\n",
       " 'isolate_1.sam',\n",
       " 'isolate_1_exons.fasta',\n",
       " 'isolate_1_exons_concat.fasta',\n",
       " 'isolate_1_porechopped.fastq.gz',\n",
       " 'isolate_1_snp_freq.tsv',\n",
       " 'isolate_1_snp_ratios.tsv',\n",
       " 'isolate_1_sorted.bam']"
      ]
     },
     "execution_count": 13,
     "metadata": {},
     "output_type": "execute_result"
    }
   ],
   "source": [
    "\n",
    "dircmp.same_files\n",
    "dircmp.left_list"
   ]
  }
 ],
 "metadata": {
  "kernelspec": {
   "display_name": "Python 3.8.13 ('marple-pst')",
   "language": "python",
   "name": "python3"
  },
  "language_info": {
   "codemirror_mode": {
    "name": "ipython",
    "version": 3
   },
   "file_extension": ".py",
   "mimetype": "text/x-python",
   "name": "python",
   "nbconvert_exporter": "python",
   "pygments_lexer": "ipython3",
   "version": "3.8.13"
  },
  "orig_nbformat": 4,
  "vscode": {
   "interpreter": {
    "hash": "ae87e062b3867ce04efaf0181f2baf4620379aba3872a7ad7fd5e9b2e9214067"
   }
  }
 },
 "nbformat": 4,
 "nbformat_minor": 2
}
